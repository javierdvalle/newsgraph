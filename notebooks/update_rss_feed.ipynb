{
 "cells": [
  {
   "cell_type": "code",
   "execution_count": 83,
   "metadata": {},
   "outputs": [],
   "source": [
    "import feedparser\n",
    "import requests\n",
    "import newspaper\n",
    "import pandas\n",
    "import newsgraph\n",
    "import json\n",
    "import datetime\n",
    "from google.cloud import bigquery\n",
    "from newsgraph.bigquery import insert_into_table, create_table_if_not_exists"
   ]
  },
  {
   "cell_type": "code",
   "execution_count": 72,
   "metadata": {},
   "outputs": [
    {
     "data": {
      "text/plain": [
       "dict_keys(['title', 'title_detail', 'links', 'link', 'id', 'guidislink', 'authors', 'author', 'author_detail', 'summary', 'summary_detail', 'published', 'published_parsed', 'tags', 'content', 'comments'])"
      ]
     },
     "execution_count": 72,
     "metadata": {},
     "output_type": "execute_result"
    }
   ],
   "source": [
    "feed_url = \"http://ep00.epimg.net/rss/elpais/portada.xml\"\n",
    "feed = feedparser.parse(feed_url)\n",
    "feed.entries[0].keys()"
   ]
  },
  {
   "cell_type": "code",
   "execution_count": 73,
   "metadata": {},
   "outputs": [
    {
     "data": {
      "text/plain": [
       "dict_keys(['additional_data', 'article_html', 'authors', 'canonical_link', 'download_exception_msg', 'download_state', 'html', 'images', 'imgs', 'keywords', 'link_hash', 'meta_data', 'meta_description', 'meta_favicon', 'meta_img', 'meta_keywords', 'meta_lang', 'meta_site_name', 'movies', 'publish_date', 'source_url', 'summary', 'tags', 'text', 'title', 'top_image', 'top_img', 'url'])"
      ]
     },
     "execution_count": 73,
     "metadata": {},
     "output_type": "execute_result"
    }
   ],
   "source": [
    "def convert_article_to_dict(article):\n",
    "    attributes = [ 'additional_data', 'article_html', 'authors', 'canonical_link',\n",
    "        'download_exception_msg', 'download_state', 'html', 'images', 'imgs', 'keywords',\n",
    "        'link_hash', 'meta_data', 'meta_description', 'meta_favicon', 'meta_img',\n",
    "        'meta_keywords', 'meta_lang', 'meta_site_name', 'movies', 'publish_date',\n",
    "        'source_url', 'summary', 'tags', 'text', 'title', 'top_image', 'top_img', 'url']\n",
    "    return {attr: getattr(article, attr) for attr in attributes}\n",
    "\n",
    "\n",
    "def download_article(url):\n",
    "    article = newspaper.Article(url)\n",
    "    article.download()\n",
    "    article.parse()\n",
    "    # print(article.text)\n",
    "    return convert_article_to_dict(article)\n",
    "\n",
    "\n",
    "def prepend_prefix(d, prefix):\n",
    "    return {prefix+k: d[k] for k in d}\n",
    "\n",
    "\n",
    "# download_article(feed.entries[0].link).images\n",
    "# prepend_prefix({'a': 1, 'b': 2}, 'rss_')\n",
    "article = download_article(feed.entries[0].link)\n",
    "article.keys()"
   ]
  },
  {
   "cell_type": "code",
   "execution_count": 77,
   "metadata": {},
   "outputs": [],
   "source": [
    "ARTICLES_TABLE_SCHEMA = \"\"\"\n",
    "[\n",
    "    {\n",
    "        \"mode\": \"NULLABLE\",\n",
    "        \"name\": \"feed_url\",\n",
    "        \"type\": \"STRING\"\n",
    "    },\n",
    "    {\n",
    "        \"mode\": \"NULLABLE\",\n",
    "        \"name\": \"downloaded_at\",\n",
    "        \"type\": \"STRING\"\n",
    "    },\n",
    "    {\n",
    "        \"mode\": \"NULLABLE\",\n",
    "        \"name\": \"url\",\n",
    "        \"type\": \"STRING\"\n",
    "    },\n",
    "    {\n",
    "        \"mode\": \"NULLABLE\",\n",
    "        \"name\": \"canonical_link\",\n",
    "        \"type\": \"STRING\"\n",
    "    },\n",
    "    {\n",
    "        \"mode\": \"NULLABLE\",\n",
    "        \"name\": \"source_url\",\n",
    "        \"type\": \"STRING\"\n",
    "    },\n",
    "    {\n",
    "        \"mode\": \"NULLABLE\",\n",
    "        \"name\": \"link_hash\",\n",
    "        \"type\": \"STRING\"\n",
    "    },\n",
    "    {\n",
    "        \"mode\": \"NULLABLE\",\n",
    "        \"name\": \"title\",\n",
    "        \"type\": \"STRING\"\n",
    "    },\n",
    "    {\n",
    "        \"mode\": \"NULLABLE\",\n",
    "        \"name\": \"text\",\n",
    "        \"type\": \"STRING\"\n",
    "    },\n",
    "    {\n",
    "        \"mode\": \"NULLABLE\",\n",
    "        \"name\": \"html\",\n",
    "        \"type\": \"STRING\"\n",
    "    },\n",
    "    {\n",
    "        \"mode\": \"NULLABLE\",\n",
    "        \"name\": \"meta_data\",\n",
    "        \"type\": \"STRING\"\n",
    "    },\n",
    "    {\n",
    "        \"mode\": \"NULLABLE\",\n",
    "        \"name\": \"meta_description\",\n",
    "        \"type\": \"STRING\"\n",
    "    },\n",
    "    {\n",
    "        \"mode\": \"NULLABLE\",\n",
    "        \"name\": \"meta_img\",\n",
    "        \"type\": \"STRING\"\n",
    "    },\n",
    "    {\n",
    "        \"mode\": \"NULLABLE\",\n",
    "        \"name\": \"meta_lang\",\n",
    "        \"type\": \"STRING\"\n",
    "    },\n",
    "    {\n",
    "        \"mode\": \"NULLABLE\",\n",
    "        \"name\": \"meta_site_name\",\n",
    "        \"type\": \"STRING\"\n",
    "    },\n",
    "    {\n",
    "        \"mode\": \"NULLABLE\",\n",
    "        \"name\": \"meta_favicon\",\n",
    "        \"type\": \"STRING\"\n",
    "    },\n",
    "    {\n",
    "        \"mode\": \"REPEATED\",\n",
    "        \"name\": \"meta_keywords\",\n",
    "        \"type\": \"STRING\"\n",
    "    },\n",
    "    {\n",
    "        \"mode\": \"NULLABLE\",\n",
    "        \"name\": \"publish_date\",\n",
    "        \"type\": \"STRING\"\n",
    "    },\n",
    "    {\n",
    "        \"mode\": \"NULLABLE\",\n",
    "        \"name\": \"top_image\",\n",
    "        \"type\": \"STRING\"\n",
    "    },\n",
    "    {\n",
    "        \"mode\": \"NULLABLE\",\n",
    "        \"name\": \"summary\",\n",
    "        \"type\": \"STRING\"\n",
    "    },\n",
    "    {\n",
    "        \"mode\": \"REPEATED\",\n",
    "        \"name\": \"authors\",\n",
    "        \"type\": \"STRING\"\n",
    "    },\n",
    "    {\n",
    "        \"mode\": \"REPEATED\",\n",
    "        \"name\": \"images\",\n",
    "        \"type\": \"STRING\"\n",
    "    },\n",
    "    {\n",
    "        \"mode\": \"REPEATED\",\n",
    "        \"name\": \"movies\",\n",
    "        \"type\": \"STRING\"\n",
    "    },\n",
    "    {\n",
    "        \"mode\": \"REPEATED\",\n",
    "        \"name\": \"keywords\",\n",
    "        \"type\": \"STRING\"\n",
    "    },\n",
    "    {\n",
    "        \"mode\": \"REPEATED\",\n",
    "        \"name\": \"tags\",\n",
    "        \"type\": \"STRING\"\n",
    "    },\n",
    "    {\n",
    "        \"mode\": \"NULLABLE\",\n",
    "        \"name\": \"rss_link\",\n",
    "        \"type\": \"STRING\"\n",
    "    },\n",
    "    {\n",
    "        \"mode\": \"NULLABLE\",\n",
    "        \"name\": \"rss_title\",\n",
    "        \"type\": \"STRING\"\n",
    "    },\n",
    "    {\n",
    "        \"mode\": \"NULLABLE\",\n",
    "        \"name\": \"rss_author\",\n",
    "        \"type\": \"STRING\"\n",
    "    },\n",
    "    {\n",
    "        \"mode\": \"REPEATED\",\n",
    "        \"name\": \"rss_authors\",\n",
    "        \"type\": \"STRING\"\n",
    "    },\n",
    "    {\n",
    "        \"mode\": \"NULLABLE\",\n",
    "        \"name\": \"rss_summary\",\n",
    "        \"type\": \"STRING\"\n",
    "    },\n",
    "    {\n",
    "        \"mode\": \"NULLABLE\",\n",
    "        \"name\": \"rss_published\",\n",
    "        \"type\": \"STRING\"\n",
    "    },\n",
    "    {\n",
    "        \"mode\": \"REPEATED\",\n",
    "        \"name\": \"rss_tags\",\n",
    "        \"type\": \"STRING\"\n",
    "    },\n",
    "    {\n",
    "        \"mode\": \"NULLABLE\",\n",
    "        \"name\": \"rss_raw_data\",\n",
    "        \"type\": \"STRING\"\n",
    "    }\n",
    "]\n",
    "\"\"\"\n",
    "\n",
    "def enrich_article_with_rss_data(article, rss_entry):\n",
    "    article['rss_link'] = str(rss_entry.get('link'))\n",
    "    article['rss_title'] = str(rss_entry.get('title'))\n",
    "    article['rss_author'] = str(rss_entry.get('author'))\n",
    "    article['rss_authors'] = [author['name'] for author in rss_entry.get('authors', [])]\n",
    "    article['rss_summary'] = str(rss_entry.get('summary'))\n",
    "    article['rss_published'] = str(rss_entry.get('published'))\n",
    "    article['rss_tags'] = [tag['term'] for tag in rss_entry.get('tags', [])]\n",
    "    article['rss_raw_data'] = str(rss_entry)\n",
    "\n",
    "def build_bq_row(article, table_schema_json, skip_fields=['html']):\n",
    "    table_schema = json.loads(table_schema_json)\n",
    "    row = {}\n",
    "    for field in table_schema:\n",
    "        if field['name'] in skip_fields:\n",
    "            continue\n",
    "        if field['mode'] == 'REPEATED':\n",
    "            row[field['name']] = list(article.get(field['name'], []))\n",
    "        elif field['type'] == 'STRING':\n",
    "            row[field['name']] = str(article.get(field['name']))\n",
    "        else:\n",
    "            row[field['name']] = article.get(field['name'])\n",
    "    return row"
   ]
  },
  {
   "cell_type": "code",
   "execution_count": 79,
   "metadata": {},
   "outputs": [
    {
     "name": "stdout",
     "output_type": "stream",
     "text": [
      "feed_url <class 'str'>\n",
      "downloaded_at <class 'str'>\n",
      "url <class 'str'>\n",
      "canonical_link <class 'str'>\n",
      "source_url <class 'str'>\n",
      "link_hash <class 'str'>\n",
      "title <class 'str'>\n",
      "text <class 'str'>\n",
      "meta_data <class 'str'>\n",
      "meta_description <class 'str'>\n",
      "meta_img <class 'str'>\n",
      "meta_lang <class 'str'>\n",
      "meta_site_name <class 'str'>\n",
      "meta_favicon <class 'str'>\n",
      "meta_keywords <class 'list'>\n",
      "publish_date <class 'str'>\n",
      "top_image <class 'str'>\n",
      "summary <class 'str'>\n",
      "authors <class 'list'>\n",
      "images <class 'list'>\n",
      "movies <class 'list'>\n",
      "keywords <class 'list'>\n",
      "tags <class 'list'>\n",
      "rss_link <class 'str'>\n",
      "rss_title <class 'str'>\n",
      "rss_author <class 'str'>\n",
      "rss_authors <class 'list'>\n",
      "rss_summary <class 'str'>\n",
      "rss_published <class 'str'>\n",
      "rss_tags <class 'list'>\n",
      "rss_raw_data <class 'str'>\n"
     ]
    },
    {
     "name": "stderr",
     "output_type": "stream",
     "text": [
      "/home/javier/.local/lib/python3.6/site-packages/google/auth/_default.py:66: UserWarning: Your application has authenticated using end user credentials from Google Cloud SDK. We recommend that most server applications use service accounts instead. If your application continues to use end user credentials from Cloud SDK, you might receive a \"quota exceeded\" or \"API not enabled\" error. For more information about service accounts, see https://cloud.google.com/docs/authentication/\n",
      "  warnings.warn(_CLOUD_SDK_CREDENTIALS_WARNING)\n"
     ]
    }
   ],
   "source": [
    "rss_entry = feed.entries[0]\n",
    "\n",
    "article = download_article(rss_entry.link)\n",
    "enrich_article_with_rss_data(article, rss_entry)\n",
    "row = build_bq_row(article, ARTICLES_TABLE_SCHEMA, skip_fields=['html'])\n",
    "\n",
    "for k, v in row.items():\n",
    "    print(k, type(v))\n",
    "    \n",
    "\n",
    "rows = [row]\n",
    "\n",
    "client = bigquery.Client('newsgraphapp')\n",
    "\n",
    "create_table_if_not_exists(client, 'test_dataset', 'articles', ARTICLES_TABLE_SCHEMA)\n",
    "\n",
    "insert_into_table(client, 'test_dataset', 'articles', rows)"
   ]
  },
  {
   "cell_type": "code",
   "execution_count": 64,
   "metadata": {},
   "outputs": [
    {
     "name": "stdout",
     "output_type": "stream",
     "text": [
      "https://elpais.com/internacional/2019/07/07/actualidad/1562510044_592540.html#?ref=rss&format=simple&link=link\n",
      "https://elpais.com/internacional/2019/07/07/actualidad/1562482149_326365.html#?ref=rss&format=simple&link=link\n",
      "https://elpais.com/elpais/2019/07/04/icon/1562248238_771513.html#?ref=rss&format=simple&link=link\n",
      "https://elpais.com/politica/2019/07/06/actualidad/1562437441_877497.html#?ref=rss&format=simple&link=link\n",
      "https://elpais.com/deportes/2019/07/07/actualidad/1562505010_689635.html#?ref=rss&format=simple&link=link\n",
      "https://elpais.com/internacional/2019/07/06/actualidad/1562438065_962487.html#?ref=rss&format=simple&link=link\n",
      "https://elpais.com/politica/2019/07/06/actualidad/1562429540_590293.html#?ref=rss&format=simple&link=link\n",
      "https://elpais.com/sociedad/2019/07/07/actualidad/1562495757_033586.html#?ref=rss&format=simple&link=link\n",
      "https://elpais.com/internacional/2019/07/06/actualidad/1562424916_024730.html#?ref=rss&format=simple&link=link\n",
      "https://elpais.com/ccaa/2019/07/06/catalunya/1562400268_660169.html#?ref=rss&format=simple&link=link\n",
      "https://elpais.com/internacional/2019/07/07/actualidad/1562473415_489094.html#?ref=rss&format=simple&link=link\n",
      "https://elpais.com/deportes/2019/07/07/actualidad/1562516466_412474.html#?ref=rss&format=simple&link=link\n",
      "https://elpais.com/deportes/2019/07/07/actualidad/1562491943_530177.html#?ref=rss&format=simple&link=link\n",
      "https://elpais.com/politica/2019/07/07/actualidad/1562481921_734341.html#?ref=rss&format=simple&link=link\n",
      "https://elpais.com/sociedad/2019/07/06/actualidad/1562414668_092067.html#?ref=rss&format=simple&link=link\n",
      "https://elpais.com/cultura/2019/07/07/television/1562490734_548979.html#?ref=rss&format=simple&link=link\n",
      "https://elpais.com/elpais/2019/07/05/ideas/1562337766_757567.html#?ref=rss&format=simple&link=link\n",
      "https://elpais.com/elpais/2019/07/04/opinion/1562247268_109575.html#?ref=rss&format=simple&link=link\n",
      "https://elpais.com/cultura/2019/07/04/television/1562242025_643404.html#?ref=rss&format=simple&link=link\n",
      "https://elpais.com/elcomidista/2019/06/25/articulo/1561490196_379127.html#?ref=rss&format=simple&link=link\n"
     ]
    }
   ],
   "source": [
    "rows = []\n",
    "for entry in feed.entries:\n",
    "    print(entry.link)\n",
    "    article = download_article(entry.link)\n",
    "    enrich_article_with_rss_data(article, entry)\n",
    "    row = build_bq_row(article, ARTICLES_TABLE_SCHEMA, skip_fields=['html'])\n",
    "    rows.append(row)"
   ]
  },
  {
   "cell_type": "code",
   "execution_count": 56,
   "metadata": {},
   "outputs": [
    {
     "data": {
      "text/plain": [
       "dict_keys(['url', 'canonical_link', 'source_url', 'link_hash', 'title', 'text', 'meta_data', 'meta_description', 'meta_img', 'meta_lang', 'meta_site_name', 'meta_favicon', 'meta_keywords', 'publish_date', 'top_image', 'summary', 'authors', 'images', 'movies', 'keywords', 'tags', 'rss_link', 'rss_title', 'rss_author', 'rss_authors', 'rss_summary', 'rss_published', 'rss_tags', 'rss_raw_data'])"
      ]
     },
     "execution_count": 56,
     "metadata": {},
     "output_type": "execute_result"
    }
   ],
   "source": [
    "rows[0].keys()"
   ]
  },
  {
   "cell_type": "code",
   "execution_count": 66,
   "metadata": {},
   "outputs": [],
   "source": [
    "create_table_if_not_exists(client, 'test_dataset', 'articles', ARTICLES_TABLE_SCHEMA)\n",
    "insert_into_table(client, 'test_dataset', 'articles', rows)"
   ]
  },
  {
   "cell_type": "code",
   "execution_count": 104,
   "metadata": {},
   "outputs": [
    {
     "name": "stdout",
     "output_type": "stream",
     "text": [
      "downloading rss feed...\n",
      "downloading feed entries...\n",
      "https://www.elmundotoday.com/2019/07/estos-son-los-cinco-mejores-pisos-de-idealista-que-ya-vienen-amueblados-y-con-familia/\n",
      "https://www.elmundotoday.com/2019/07/un-lector-consigue-resolver-en-un-minuto-el-ultimo-crucigrama-de-el-pais-desbloquea-el-logro-y-se-hace-con-la-direccion-del-periodico/\n",
      "https://www.elmundotoday.com/2019/07/que-te-entre-jabon-en-los-ojos-y-otras-cuatro-experiencias-que-solo-puedes-vivir-en-barcelona/\n",
      "https://www.elmundotoday.com/2019/07/audiencias-antena-3-sustituye-sus-informativos-por-la-serie-big-little-lies/\n",
      "https://www.elmundotoday.com/2019/07/vox-culpa-al-cm-de-verano-del-reciente-asesinato-de-15-contrincantes-politicos/\n",
      "https://www.elmundotoday.com/2019/07/comparativa-trabajo-infantil-vs-ropa-cara/\n",
      "https://www.elmundotoday.com/2019/07/como-cada-ano-cierran-las-webs-de-pornografia-en-verano-porque-hace-demasiado-calor-para-el-sexo/\n",
      "https://www.elmundotoday.com/2019/07/los-expertos-confirman-que-tras-un-desastre-nuclear-solo-las-cucarachas-y-los-humanos-disfrazados-de-cucaracha-sobrevivirian/\n",
      "https://www.elmundotoday.com/2019/07/asi-es-el-nuevo-rap-de-rosalia-contra-la-casa-real/\n",
      "https://www.elmundotoday.com/2019/07/pablo-iglesias-llega-al-congreso-empapado-porque-sigue-sin-saber-programar-el-riego-automatico/\n",
      "https://www.elmundotoday.com/2019/07/almeida-retira-los-dos-leones-de-la-escultura-de-la-diosa-cibeles-y-anade-un-motor-diesel-al-carro/\n",
      "https://www.elmundotoday.com/2019/07/una-nina-sin-prejuicios-permite-que-su-barbie-se-bese-con-un-dinosaurio/\n",
      "https://www.elmundotoday.com/2019/07/raid-vende-un-enchufe-con-un-pequeno-altavoz-que-insulta-a-los-mosquitos-y-les-convence-para-que-se-vayan/\n",
      "https://www.elmundotoday.com/2019/07/extraterrestres-de-jupiter-aseguran-que-la-llegada-de-los-mordglukers-a-la-tierra-fue-un-montaje-grabado-en-un-slormork/\n",
      "https://www.elmundotoday.com/2019/07/como-preparar-una-fiesta-correctamente/\n",
      "https://www.elmundotoday.com/2019/07/inunda-el-ambulatorio-al-retirarse-el-algodon-del-brazo-despues-de-una-analitica/\n",
      "https://www.elmundotoday.com/2019/07/donald-trump-fusilo-a-cinco-personas-en-corea-del-norte-para-mostrar-respeto-por-las-costumbres-del-pais/\n",
      "https://www.elmundotoday.com/2019/07/horoscopo-de-la-semana-leo-si-necesitas-un-respiro-en-tu-vida-no-vayas-a-madrid/\n",
      "https://www.elmundotoday.com/2019/07/la-moratoria-de-madrid-central-permite-a-un-transformer-tomarse-su-primera-cana-en-meses/\n",
      "https://www.elmundotoday.com/2019/07/hackea-el-linkedin-de-su-hijo-para-que-solo-le-sugiera-trabajar-con-papa-en-el-taller/\n",
      "saving 20 rows to bigquery...\n",
      "done\n"
     ]
    }
   ],
   "source": [
    "ARTICLES_DATASET = 'feed'\n",
    "ARTICLES_TABLE = 'articles'\n",
    "\n",
    "def download_feed(feed_url):\n",
    "    # TODO: sacar de bigquery la lista de links que ya descargue en el pasado, y no volver a hacerlo\n",
    "    # TODO: se queda pillado a veces en el insert_into_table() o en el create_table()?\n",
    "    now = str(datetime.datetime.now())\n",
    "    print('downloading rss feed...')\n",
    "    feed = feedparser.parse(feed_url)\n",
    "    rows = []\n",
    "    print('downloading feed entries...')\n",
    "    for entry in feed.entries:\n",
    "        print(entry.link)\n",
    "        article = download_article(entry.link)\n",
    "        article['meta_data'] = dict(article['meta_data'])\n",
    "        enrich_article_with_rss_data(article, entry)\n",
    "        article['downloaded_at'] = now\n",
    "        article['feed_url'] = feed_url\n",
    "        row = build_bq_row(article, ARTICLES_TABLE_SCHEMA, skip_fields=['html'])\n",
    "        rows.append(row)\n",
    "    print('saving {} rows to bigquery...'.format(len(rows)))\n",
    "    # create_table_if_not_exists(client, ARTICLES_DATASET, ARTICLES_TABLE, ARTICLES_TABLE_SCHEMA)\n",
    "    insert_into_table(client, ARTICLES_DATASET, ARTICLES_TABLE, rows)\n",
    "    print('done')\n",
    "\n",
    "\n",
    "# feed_url = 'https://elpais.com/tag/rss/latinoamerica/a/'\n",
    "feed_url = 'http://elmundotoday.com/rss'\n",
    "download_feed(feed_url)"
   ]
  },
  {
   "cell_type": "code",
   "execution_count": 84,
   "metadata": {},
   "outputs": [
    {
     "data": {
      "text/plain": [
       "'2019-07-07 23:48:41.511211'"
      ]
     },
     "execution_count": 84,
     "metadata": {},
     "output_type": "execute_result"
    }
   ],
   "source": [
    "str(datetime.datetime.now())"
   ]
  }
 ],
 "metadata": {
  "kernelspec": {
   "display_name": "Python 3",
   "language": "python",
   "name": "python3"
  },
  "language_info": {
   "codemirror_mode": {
    "name": "ipython",
    "version": 3
   },
   "file_extension": ".py",
   "mimetype": "text/x-python",
   "name": "python",
   "nbconvert_exporter": "python",
   "pygments_lexer": "ipython3",
   "version": "3.6.8"
  }
 },
 "nbformat": 4,
 "nbformat_minor": 2
}
