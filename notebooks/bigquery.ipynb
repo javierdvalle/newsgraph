{
 "cells": [
  {
   "cell_type": "code",
   "execution_count": 7,
   "metadata": {},
   "outputs": [],
   "source": []
  },
  {
   "cell_type": "code",
   "execution_count": 1,
   "metadata": {},
   "outputs": [],
   "source": [
    "from google.cloud import bigquery\n",
    "import google\n",
    "import json\n",
    "\n",
    "\n",
    "def build_schema_from_json(json_schema):\n",
    "    json_schema = json.loads(json_schema)\n",
    "    res = []\n",
    "    for field in json_schema:\n",
    "        res.append(bigquery.schema.SchemaField.from_api_repr(field))\n",
    "    return res\n",
    "\n",
    "\n",
    "def create_dataset_if_not_exists(client, dataset_name):\n",
    "    dataset_ref = client.dataset(dataset_name)\n",
    "    try:\n",
    "        client.get_dataset(dataset_ref)\n",
    "    except google.cloud.exceptions.NotFound:\n",
    "        client.create_dataset(dataset_ref)\n",
    "\n",
    "\n",
    "def create_table_if_not_exists(client, dataset_name, table_name, json_schema):\n",
    "    create_dataset_if_not_exists(client, dataset_name)\n",
    "    dataset_ref = client.dataset(dataset_name)\n",
    "    table_ref = dataset_ref.table(table_name)\n",
    "    try:\n",
    "        table = client.get_table(table_ref)\n",
    "    except google.cloud.exceptions.NotFound:\n",
    "        table = bigquery.Table(table_ref, schema=build_schema_from_json(json_schema))\n",
    "        table = client.create_table(table)\n",
    "\n",
    "\n",
    "def get_table(client, dataset_name, table_name):\n",
    "    dataset_ref = client.dataset(dataset_name)\n",
    "    table_ref = dataset_ref.table(table_name)\n",
    "    return client.get_table(table_ref)\n",
    "\n",
    "\n",
    "def insert_into_table(client, dataset_name, table_name, rows):\n",
    "    table = get_table(client, dataset_name, table_name)\n",
    "    errors = client.insert_rows(table, rows)  # API request\n",
    "    assert errors == []\n"
   ]
  },
  {
   "cell_type": "code",
   "execution_count": 3,
   "metadata": {},
   "outputs": [
    {
     "data": {
      "text/plain": [
       "[SchemaField('url', 'STRING', 'NULLABLE', None, ()),\n",
       " SchemaField('title', 'STRING', 'NULLABLE', None, ()),\n",
       " SchemaField('text', 'STRING', 'NULLABLE', None, ()),\n",
       " SchemaField('authors', 'STRING', 'REPEATED', None, ())]"
      ]
     },
     "execution_count": 3,
     "metadata": {},
     "output_type": "execute_result"
    }
   ],
   "source": [
    "ARTICLES_TABLE_SCHEMA = \"\"\"\n",
    "[\n",
    "    {\n",
    "        \"mode\": \"NULLABLE\",\n",
    "        \"name\": \"url\",\n",
    "        \"type\": \"STRING\"\n",
    "    },\n",
    "    {\n",
    "        \"mode\": \"NULLABLE\",\n",
    "        \"name\": \"title\",\n",
    "        \"type\": \"STRING\"\n",
    "    },\n",
    "    {\n",
    "        \"mode\": \"NULLABLE\",\n",
    "        \"name\": \"text\",\n",
    "        \"type\": \"STRING\"\n",
    "    },\n",
    "    {\n",
    "        \"mode\": \"REPEATED\",\n",
    "        \"name\": \"authors\",\n",
    "        \"type\": \"STRING\"\n",
    "    }\n",
    "]\n",
    "\"\"\"\n",
    "\n",
    "build_schema_from_json(ARTICLES_TABLE_SCHEMA)"
   ]
  },
  {
   "cell_type": "code",
   "execution_count": 4,
   "metadata": {},
   "outputs": [
    {
     "name": "stderr",
     "output_type": "stream",
     "text": [
      "/home/javier/.local/lib/python3.6/site-packages/google/auth/_default.py:66: UserWarning: Your application has authenticated using end user credentials from Google Cloud SDK. We recommend that most server applications use service accounts instead. If your application continues to use end user credentials from Cloud SDK, you might receive a \"quota exceeded\" or \"API not enabled\" error. For more information about service accounts, see https://cloud.google.com/docs/authentication/\n",
      "  warnings.warn(_CLOUD_SDK_CREDENTIALS_WARNING)\n"
     ]
    }
   ],
   "source": [
    "client = bigquery.Client('newsgraphapp')\n",
    "\n",
    "create_table_if_not_exists(client, 'test_dataset', 'test_table', ARTICLES_TABLE_SCHEMA)\n",
    "\n",
    "rows = [\n",
    "    {\n",
    "        'url': 'https://testurl.html',\n",
    "        'title': 'hello',\n",
    "        'text': 'aaaaasdfa',\n",
    "        'authors': ['javi', 'manu']\n",
    "    }\n",
    "]\n",
    "\n",
    "insert_into_table(client, 'test_dataset', 'test_table', rows)"
   ]
  },
  {
   "cell_type": "code",
   "execution_count": 10,
   "metadata": {},
   "outputs": [
    {
     "data": {
      "text/plain": [
       "['https://www.elmundotoday.com/2019/07/horoscopo-de-la-semana-leo-si-necesitas-un-respiro-en-tu-vida-no-vayas-a-madrid/',\n",
       " 'https://www.elmundotoday.com/2019/07/donald-trump-fusilo-a-cinco-personas-en-corea-del-norte-para-mostrar-respeto-por-las-costumbres-del-pais/',\n",
       " 'https://www.elmundotoday.com/2019/07/pablo-iglesias-llega-al-congreso-empapado-porque-sigue-sin-saber-programar-el-riego-automatico/',\n",
       " 'https://www.elmundotoday.com/2019/07/los-expertos-confirman-que-tras-un-desastre-nuclear-solo-las-cucarachas-y-los-humanos-disfrazados-de-cucaracha-sobrevivirian/',\n",
       " 'https://www.elmundotoday.com/2019/07/como-cada-ano-cierran-las-webs-de-pornografia-en-verano-porque-hace-demasiado-calor-para-el-sexo/',\n",
       " 'https://www.elmundotoday.com/2019/07/estos-son-los-cinco-mejores-pisos-de-idealista-que-ya-vienen-amueblados-y-con-familia/',\n",
       " 'https://www.elmundotoday.com/2019/07/audiencias-antena-3-sustituye-sus-informativos-por-la-serie-big-little-lies/',\n",
       " 'https://www.elmundotoday.com/2019/07/almeida-publica-un-comunicado-aclarando-que-su-cara-no-parece-una-polla/',\n",
       " 'https://www.elmundotoday.com/2019/07/un-lector-consigue-resolver-en-un-minuto-el-ultimo-crucigrama-de-el-pais-desbloquea-el-logro-y-se-hace-con-la-direccion-del-periodico/',\n",
       " 'https://www.elmundotoday.com/2019/07/comparativa-trabajo-infantil-vs-ropa-cara/',\n",
       " 'https://www.elmundotoday.com/2019/07/que-te-entre-jabon-en-los-ojos-y-otras-cuatro-experiencias-que-solo-puedes-vivir-en-barcelona/',\n",
       " 'https://www.elmundotoday.com/2019/07/extraterrestres-de-jupiter-aseguran-que-la-llegada-de-los-mordglukers-a-la-tierra-fue-un-montaje-grabado-en-un-slormork/',\n",
       " 'https://www.elmundotoday.com/2019/07/vox-culpa-al-cm-de-verano-del-reciente-asesinato-de-15-contrincantes-politicos/',\n",
       " 'https://www.elmundotoday.com/2019/07/una-nina-sin-prejuicios-permite-que-su-barbie-se-bese-con-un-dinosaurio/',\n",
       " 'https://www.elmundotoday.com/2019/07/como-preparar-una-fiesta-correctamente/',\n",
       " 'https://www.elmundotoday.com/2019/07/asi-es-el-nuevo-rap-de-rosalia-contra-la-casa-real/',\n",
       " 'https://www.elmundotoday.com/2019/07/ciudadanos-exige-a-sanchez-aplicar-el-155-en-el-colectivo-lgtb/',\n",
       " 'https://www.elmundotoday.com/2019/07/inunda-el-ambulatorio-al-retirarse-el-algodon-del-brazo-despues-de-una-analitica/',\n",
       " 'https://www.elmundotoday.com/2019/07/almeida-retira-los-dos-leones-de-la-escultura-de-la-diosa-cibeles-y-anade-un-motor-diesel-al-carro/',\n",
       " 'https://www.elmundotoday.com/2019/07/raid-vende-un-enchufe-con-un-pequeno-altavoz-que-insulta-a-los-mosquitos-y-les-convence-para-que-se-vayan/']"
      ]
     },
     "execution_count": 10,
     "metadata": {},
     "output_type": "execute_result"
    }
   ],
   "source": [
    "def get_downloaded_urls(config, bq_client, feed_url):\n",
    "    query = \"\"\"\n",
    "        SELECT main_url \n",
    "        FROM `{PROJECT_ID}.{ARTICLES_DATASET}.{ARTICLES_TABLE}`\n",
    "        where feed_url=\"{feed_url}\"\n",
    "        LIMIT 1000 \n",
    "    \"\"\".format(**config, feed_url=feed_url)\n",
    "\n",
    "    query_job = bq_client.query(\n",
    "        query,\n",
    "        location=\"US\",\n",
    "    )\n",
    "    return [row['main_url'] for row in query_job]\n",
    "\n",
    "\n",
    "config = {\n",
    "    'PROJECT_ID': 'newsgraphapp',\n",
    "    'ARTICLES_DATASET': 'feed',\n",
    "    'ARTICLES_TABLE': 'articles'\n",
    "}\n",
    "\n",
    "feed_url = 'http://elmundotoday.com/rss'\n",
    "\n",
    "get_downloaded_urls(config, client, feed_url)"
   ]
  }
 ],
 "metadata": {
  "kernelspec": {
   "display_name": "Python 3",
   "language": "python",
   "name": "python3"
  },
  "language_info": {
   "codemirror_mode": {
    "name": "ipython",
    "version": 3
   },
   "file_extension": ".py",
   "mimetype": "text/x-python",
   "name": "python",
   "nbconvert_exporter": "python",
   "pygments_lexer": "ipython3",
   "version": "3.6.8"
  }
 },
 "nbformat": 4,
 "nbformat_minor": 2
}
