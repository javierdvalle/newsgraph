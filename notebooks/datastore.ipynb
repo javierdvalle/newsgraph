{
 "cells": [
  {
   "cell_type": "code",
   "execution_count": 12,
   "metadata": {},
   "outputs": [
    {
     "name": "stderr",
     "output_type": "stream",
     "text": [
      "/home/javier/.local/lib/python3.6/site-packages/google/auth/_default.py:66: UserWarning: Your application has authenticated using end user credentials from Google Cloud SDK. We recommend that most server applications use service accounts instead. If your application continues to use end user credentials from Cloud SDK, you might receive a \"quota exceeded\" or \"API not enabled\" error. For more information about service accounts, see https://cloud.google.com/docs/authentication/\n",
      "  warnings.warn(_CLOUD_SDK_CREDENTIALS_WARNING)\n"
     ]
    }
   ],
   "source": [
    "from google.cloud import datastore\n",
    "\n",
    "PROJECT_ID = 'newsgraphapp'\n",
    "FEED_KIND = 'feed'\n",
    "ARTICLES_DATASET = 'feed'\n",
    "ARTICLES_TABLE = 'articles'\n",
    "ARTICLES_TABLE_FIELDS = ['url', 'feed_url', 'updated_at']\n",
    "\n",
    "dsclient = datastore.Client(PROJECT_ID)\n"
   ]
  },
  {
   "cell_type": "code",
   "execution_count": 9,
   "metadata": {},
   "outputs": [],
   "source": [
    "key = dsclient.key(FEED_KIND, 'https://prueba.xml')\n",
    "dsclient.get(key)"
   ]
  },
  {
   "cell_type": "code",
   "execution_count": 8,
   "metadata": {},
   "outputs": [
    {
     "data": {
      "text/plain": [
       "<Entity('feed', 'http://ep00.epimg.net/rss/elpais/portada.xml') {'rss_url': 'http://ep00.epimg.net/rss/elpais/portada.xml', 'updated_at': None, 'created_at': datetime.datetime(2019, 7, 7, 10, 56, 2, 301135, tzinfo=<UTC>)}>"
      ]
     },
     "execution_count": 8,
     "metadata": {},
     "output_type": "execute_result"
    }
   ],
   "source": [
    "key = dsclient.key(FEED_KIND, 'http://ep00.epimg.net/rss/elpais/portada.xml')\n",
    "dsclient.get(key)"
   ]
  },
  {
   "cell_type": "code",
   "execution_count": 15,
   "metadata": {},
   "outputs": [
    {
     "data": {
      "text/plain": [
       "{'feed_type': 'rss',\n",
       " 'rss_url': 'http://ep00.epimg.net/rss/elpais/portada.xml',\n",
       " 'updated_at': None,\n",
       " 'created_at': datetime.datetime(2019, 7, 7, 11, 9, 30, 60786, tzinfo=<UTC>)}"
      ]
     },
     "execution_count": 15,
     "metadata": {},
     "output_type": "execute_result"
    }
   ],
   "source": [
    "key = dsclient.key(FEED_KIND, 'http://ep00.epimg.net/rss/elpais/portada.xml')\n",
    "entity = dsclient.get(key)\n",
    "dict(entity)"
   ]
  }
 ],
 "metadata": {
  "kernelspec": {
   "display_name": "Python 3",
   "language": "python",
   "name": "python3"
  },
  "language_info": {
   "codemirror_mode": {
    "name": "ipython",
    "version": 3
   },
   "file_extension": ".py",
   "mimetype": "text/x-python",
   "name": "python",
   "nbconvert_exporter": "python",
   "pygments_lexer": "ipython3",
   "version": "3.6.8"
  }
 },
 "nbformat": 4,
 "nbformat_minor": 2
}
