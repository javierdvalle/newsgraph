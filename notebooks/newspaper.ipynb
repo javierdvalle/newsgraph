{
 "cells": [
  {
   "cell_type": "code",
   "execution_count": 9,
   "metadata": {},
   "outputs": [],
   "source": [
    "from newspaper import Article\n",
    "\n",
    "url = 'https://elpais.com/politica/2019/05/11/actualidad/1557570965_447945.html'\n",
    "article = Article(url)\n"
   ]
  },
  {
   "cell_type": "code",
   "execution_count": 48,
   "metadata": {},
   "outputs": [
    {
     "data": {
      "text/plain": [
       "'<!DOCTYPE html>\\n<html lang=\"es\">\\n<head>\\n<meta charset=\"utf-8\">\\n<meta http-equiv=\"X-UA-Compatible\" content=\"IE=edge\">\\n<meta name=\"format-detection\" content=\"address=no,email=no,telephone=no\">\\n<meta nam'"
      ]
     },
     "execution_count": 48,
     "metadata": {},
     "output_type": "execute_result"
    }
   ],
   "source": [
    "article.download()\n",
    "article.parse()\n",
    "article.nlp()\n",
    "article.html[:200]\n"
   ]
  },
  {
   "cell_type": "code",
   "execution_count": 22,
   "metadata": {},
   "outputs": [
    {
     "data": {
      "text/plain": [
       "dict_keys(['config', 'extractor', 'source_url', 'url', 'title', 'top_img', 'top_image', 'meta_img', 'imgs', 'images', 'movies', 'text', 'keywords', 'meta_keywords', 'tags', 'authors', 'publish_date', 'summary', 'html', 'article_html', 'is_parsed', 'download_state', 'download_exception_msg', 'meta_description', 'meta_lang', 'meta_favicon', 'meta_data', 'canonical_link', 'top_node', 'clean_top_node', 'doc', 'clean_doc', 'additional_data', 'link_hash'])"
      ]
     },
     "execution_count": 22,
     "metadata": {},
     "output_type": "execute_result"
    }
   ],
   "source": [
    "vars(article).keys()"
   ]
  },
  {
   "cell_type": "code",
   "execution_count": 60,
   "metadata": {},
   "outputs": [
    {
     "data": {
      "text/plain": [
       "{'config': <newspaper.configuration.Configuration at 0x7f5ccbdebe48>,\n",
       " 'extractor': <newspaper.extractors.ContentExtractor at 0x7f5ccbdeb128>,\n",
       " 'source_url': 'https://elpais.com',\n",
       " 'url': 'https://elpais.com/politica/2019/05/11/actualidad/1557570965_447945.html',\n",
       " 'title': 'El PP: “También son peligrosos los nacionalistas españoles”',\n",
       " 'top_img': 'https://ep00.epimg.net/politica/imagenes/2019/05/11/actualidad/1557570965_447945_1557576180_rrss_normal.jpg',\n",
       " 'top_image': 'https://ep00.epimg.net/politica/imagenes/2019/05/11/actualidad/1557570965_447945_1557576180_rrss_normal.jpg',\n",
       " 'meta_img': 'https://ep00.epimg.net/politica/imagenes/2019/05/11/actualidad/1557570965_447945_1557576180_rrss_normal.jpg',\n",
       " 'imgs': {'https://ep00.epimg.net/politica/imagenes/2019/05/11/actualidad/1557570965_447945_1557576180_rrss_normal.jpg',\n",
       "  'https://ep00.epimg.net/t.gif'},\n",
       " 'images': {'https://ep00.epimg.net/politica/imagenes/2019/05/11/actualidad/1557570965_447945_1557576180_rrss_normal.jpg',\n",
       "  'https://ep00.epimg.net/t.gif'},\n",
       " 'movies': [],\n",
       " 'authors': ['Natalia Junquera', 'Kai Försterling', 'Efe'],\n",
       " 'publish_date': datetime.datetime(2019, 5, 11, 0, 0),\n",
       " 'article_html': '',\n",
       " 'is_parsed': True,\n",
       " 'download_state': 2,\n",
       " 'download_exception_msg': None,\n",
       " 'meta_description': 'Casado llama a los votantes de Vox y Ciudadanos a  volver a casa  para no dar  carta blanca  a Sánchez en las elecciones del 26 de mayo',\n",
       " 'meta_lang': 'es',\n",
       " 'meta_favicon': 'https://ep01.epimg.net/favicon.png',\n",
       " 'canonical_link': 'https://elpais.com/politica/2019/05/11/actualidad/1557570965_447945.html',\n",
       " 'top_node': <Element div at 0x7f5c9eb349a8>,\n",
       " 'clean_top_node': <Element div at 0x7f5cc9d237c8>,\n",
       " 'doc': <Element html at 0x7f5cc9d131d8>,\n",
       " 'clean_doc': <Element html at 0x7f5cc9d06b38>,\n",
       " 'additional_data': {},\n",
       " 'link_hash': '94771cc8306f3064d86e74211d12bbda.1557585656.1354656'}"
      ]
     },
     "execution_count": 60,
     "metadata": {},
     "output_type": "execute_result"
    }
   ],
   "source": [
    "{k:v for k,v in vars(article).items() if k not in ['summary', 'text', 'html', 'meta_data', 'tags', 'meta_keywords', 'keywords']}"
   ]
  },
  {
   "cell_type": "code",
   "execution_count": 52,
   "metadata": {},
   "outputs": [
    {
     "name": "stdout",
     "output_type": "stream",
     "text": [
      "El PP: “También son peligrosos los nacionalistas españoles”\n",
      "['Natalia Junquera', 'Kai Försterling', 'Efe']\n",
      "{'https://ep00.epimg.net/politica/imagenes/2019/05/11/actualidad/1557570965_447945_1557576180_rrss_normal.jpg', 'https://ep00.epimg.net/t.gif'}\n",
      "[]\n",
      "--\n",
      "Tras las generales, el líder del PP y la derecha se juegan mucho más que el líder socialista y la izquierda en los comicios autonómicos y municipales.\n",
      "El portavoz del partido en el Parlamento Europeo, Esteban González Pons, también deslizó críticas hacia sus rivales.\n",
      "También son peligrosos los nacionalistas españoles porque el nacionalismo es el primer peldaño de la escalera del totalitarismo y del racismo\", añadió.\n",
      "González Pons también se refirió a Carles Puigdemont después de que el Tribunal Constitucional rechazara el recurso presentado por el PP y Ciudadanos contra su candidatura europea.\n",
      "También Casado dedicó durante su intervención elogios a la exalcaldesa de Valencia —\"la gran Rita\"— a la que el PP obligó a abandonar el grupo en el Senado por los escándalos de corrupción.\n",
      "--\n",
      "https://elpais.com/politica/2019/05/11/actualidad/1557570965_447945.html\n"
     ]
    }
   ],
   "source": [
    "print(article.title)\n",
    "print(article.authors)\n",
    "print(article.images)\n",
    "print(article.movies)\n",
    "print(\"--\")\n",
    "print(article.summary)\n",
    "print(\"--\")\n",
    "print(article.canonical_link)\n"
   ]
  },
  {
   "cell_type": "code",
   "execution_count": 33,
   "metadata": {},
   "outputs": [
    {
     "data": {
      "text/plain": [
       "['Natalia Junquera', 'Kai Försterling', 'Efe']"
      ]
     },
     "execution_count": 33,
     "metadata": {},
     "output_type": "execute_result"
    }
   ],
   "source": []
  },
  {
   "cell_type": "code",
   "execution_count": 62,
   "metadata": {},
   "outputs": [
    {
     "data": {
      "text/plain": [
       "defaultdict(dict,\n",
       "            {'format-detection': 'address=no,email=no,telephone=no',\n",
       "             'viewport': 'width=device-width, initial-scale=1.0, maximum-scale=1.0',\n",
       "             'lang': 'es',\n",
       "             'author': 'Natalia Junquera',\n",
       "             'description': 'Casado llama a los votantes de Vox y Ciudadanos a  volver a casa  para no dar  carta blanca  a Sánchez en las elecciones del 26 de mayo',\n",
       "             'keywords': 'pp también, ser, peligroso, nacionalista, español, casado, llamar, votante, vox, ciudadanos, volver, casa, dar, carta, blanca, blanco, sánchez, elección, 26 de mayo',\n",
       "             'date': '2019-05-11T15:01:46+02:00',\n",
       "             'DC.date.issued': '2019-05-11',\n",
       "             'DC.date': '2019-05-11',\n",
       "             'organization': 'Ediciones EL PAÍS S.L.',\n",
       "             'article': {'modified_time': '2019-05-11T15:01:46+02:00',\n",
       "              'publisher': 'https://www.facebook.com/elpais',\n",
       "              'published_time': '2019-05-11',\n",
       "              'section': 'politica',\n",
       "              'tag': 'Partidos políticos'},\n",
       "             'news_keywords': 'Esteban González Pons,Isabel Bonig,Elecciones autonómicas 2019,Elecciones municipales 2019,Pablo Casado,Elecciones municipales,Elecciones autonómicas,PP,Elecciones,Partidos políticos',\n",
       "             'og': {'title': 'El PP: “También son peligrosos los nacionalistas españoles”',\n",
       "              'description': 'Casado llama a los votantes de Vox y Ciudadanos a  volver a casa  para no dar  carta blanca  a Sánchez en las elecciones del 26 de mayo',\n",
       "              'image': {'identifier': 'https://ep00.epimg.net/politica/imagenes/2019/05/11/actualidad/1557570965_447945_1557576180_rrss_normal.jpg',\n",
       "               'width': 720,\n",
       "               'height': 377},\n",
       "              'updated_time': '2019-05-11T15:01:46+02:00',\n",
       "              'url': 'https://elpais.com/politica/2019/05/11/actualidad/1557570965_447945.html',\n",
       "              'type': 'article',\n",
       "              'site_name': 'EL PAÍS'},\n",
       "             'fb': {'app_id': 94039431626},\n",
       "             'twitter': {'card': 'summary_large_image',\n",
       "              'site': '@elpais_espana'}})"
      ]
     },
     "execution_count": 62,
     "metadata": {},
     "output_type": "execute_result"
    }
   ],
   "source": [
    "article.meta_data"
   ]
  },
  {
   "cell_type": "markdown",
   "metadata": {},
   "source": [
    "# que pasa si no es un artículo?"
   ]
  },
  {
   "cell_type": "code",
   "execution_count": 72,
   "metadata": {},
   "outputs": [
    {
     "name": "stdout",
     "output_type": "stream",
     "text": [
      "Bicicletas baratas con hasta -40%\n",
      "defaultdict(<class 'dict'>, {'description': 'llll➤ Bicicletas económicas ✔ Compra y ahorra hasta 40% ✔ en la tienda en línea Bikester.es ✚ ENVÍO RÁPIDO ✔ Devolución GRATIS', 'robots': 'index,follow', 'og': {'url': 'https://www.bikester.es/', 'image': 'https://images.internetstores.de/brands/bikester.png'}, 'apple-mobile-web-app-title': 'www.bikester.es', 'msapplication-TileColor': '#FFFFFF', 'msapplication-TileImage': '/fileadmin/_global/graphics/bikester/favicons/mstile-144x144.png', 'application-name': 'www.bikester.es', 'google-site-verification': 'u4EmJyG0ZnXHRJk9L-QPbYZdVlYjYKxOnU08X0PTUUc', 'msvalidate.01': '6B8D2E6E2B5C3345E381FA4A06A1B247'})\n",
      "[]\n",
      "https://www.bikester.es/\n"
     ]
    }
   ],
   "source": [
    "article2 = Article('https://www.bikester.es/')\n",
    "article2.download()\n",
    "article2.parse()\n",
    "print(article2.title)\n",
    "print(article2.meta_data)\n",
    "print(article2.authors)\n",
    "print(article2.canonical_link)"
   ]
  }
 ],
 "metadata": {
  "kernelspec": {
   "display_name": "Python 3",
   "language": "python",
   "name": "python3"
  },
  "language_info": {
   "codemirror_mode": {
    "name": "ipython",
    "version": 3
   },
   "file_extension": ".py",
   "mimetype": "text/x-python",
   "name": "python",
   "nbconvert_exporter": "python",
   "pygments_lexer": "ipython3",
   "version": "3.6.8"
  }
 },
 "nbformat": 4,
 "nbformat_minor": 2
}
