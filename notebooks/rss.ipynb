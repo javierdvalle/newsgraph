{
 "cells": [
  {
   "cell_type": "code",
   "execution_count": 1,
   "metadata": {},
   "outputs": [
    {
     "data": {
      "text/plain": [
       "dict_keys(['feed', 'entries', 'bozo', 'headers', 'updated', 'updated_parsed', 'href', 'status', 'encoding', 'version', 'namespaces'])"
      ]
     },
     "execution_count": 1,
     "metadata": {},
     "output_type": "execute_result"
    }
   ],
   "source": [
    "import feedparser\n",
    "feed = feedparser.parse(\"http://ep00.epimg.net/rss/elpais/portada.xml\")\n",
    "\n",
    "# print(feed)\n",
    "# print(feed.entries[0])\n",
    "\n",
    "feed.keys()"
   ]
  },
  {
   "cell_type": "code",
   "execution_count": 2,
   "metadata": {},
   "outputs": [
    {
     "data": {
      "text/plain": [
       "{'title': 'Portada de EL PAÍS',\n",
       " 'title_detail': {'type': 'text/plain',\n",
       "  'language': None,\n",
       "  'base': 'http://ep00.epimg.net/rss/elpais/portada.xml',\n",
       "  'value': 'Portada de EL PAÍS'},\n",
       " 'links': [{'rel': 'alternate',\n",
       "   'type': 'text/html',\n",
       "   'href': 'https://elpais.com/rss/elpais/portada.xml'}],\n",
       " 'link': 'https://elpais.com/rss/elpais/portada.xml',\n",
       " 'subtitle': 'Portada de EL PAÍS',\n",
       " 'subtitle_detail': {'type': 'text/html',\n",
       "  'language': None,\n",
       "  'base': 'http://ep00.epimg.net/rss/elpais/portada.xml',\n",
       "  'value': 'Portada de EL PAÍS'},\n",
       " 'updated': 'Sun, 7 Jul 2019 13:13:45 +0200',\n",
       " 'updated_parsed': time.struct_time(tm_year=2019, tm_mon=7, tm_mday=7, tm_hour=11, tm_min=13, tm_sec=45, tm_wday=6, tm_yday=188, tm_isdst=0),\n",
       " 'published': 'Sun, 7 Jul 2019 13:13:45 +0200',\n",
       " 'published_parsed': time.struct_time(tm_year=2019, tm_mon=7, tm_mday=7, tm_hour=11, tm_min=13, tm_sec=45, tm_wday=6, tm_yday=188, tm_isdst=0),\n",
       " 'language': 'es',\n",
       " 'rights': 'Copyright 2019, Ediciones EL PAÍS',\n",
       " 'rights_detail': {'type': 'text/plain',\n",
       "  'language': None,\n",
       "  'base': 'http://ep00.epimg.net/rss/elpais/portada.xml',\n",
       "  'value': 'Copyright 2019, Ediciones EL PAÍS'},\n",
       " 'ttl': '5',\n",
       " 'image': {'href': 'https://ep00.epimg.net/iconos/v1.x/v1.0/logos/cabecera_portada.png',\n",
       "  'title': 'Logotipo de EL PAÍS',\n",
       "  'title_detail': {'type': 'text/plain',\n",
       "   'language': None,\n",
       "   'base': 'http://ep00.epimg.net/rss/elpais/portada.xml',\n",
       "   'value': 'Logotipo de EL PAÍS'},\n",
       "  'links': [{'rel': 'alternate',\n",
       "    'type': 'text/html',\n",
       "    'href': 'https://elpais.com/'}],\n",
       "  'link': 'https://elpais.com/'}}"
      ]
     },
     "execution_count": 2,
     "metadata": {},
     "output_type": "execute_result"
    }
   ],
   "source": [
    "feed.feed"
   ]
  },
  {
   "cell_type": "code",
   "execution_count": 9,
   "metadata": {},
   "outputs": [
    {
     "data": {
      "text/plain": [
       "21"
      ]
     },
     "execution_count": 9,
     "metadata": {},
     "output_type": "execute_result"
    }
   ],
   "source": [
    "len(feed.entries)"
   ]
  },
  {
   "cell_type": "code",
   "execution_count": 16,
   "metadata": {},
   "outputs": [
    {
     "data": {
      "text/plain": [
       "{'title': 'Alemania y Francia se hacen con los altos cargos de la Comisión Europea y el BCE',\n",
       " 'title_detail': {'type': 'text/plain',\n",
       "  'language': None,\n",
       "  'base': 'http://ep00.epimg.net/rss/elpais/portada.xml',\n",
       "  'value': 'Alemania y Francia se hacen con los altos cargos de la Comisión Europea y el BCE'},\n",
       " 'links': [{'rel': 'alternate',\n",
       "   'type': 'text/html',\n",
       "   'href': 'https://elpais.com/internacional/2019/07/02/actualidad/1562077916_129017.html#?ref=rss&format=simple&link=link'},\n",
       "  {'length': '90630',\n",
       "   'type': 'image/jpeg',\n",
       "   'href': 'https://ep00.epimg.net/internacional/imagenes/2019/07/02/actualidad/1562077916_129017_1562095291_noticia_normal.jpg',\n",
       "   'rel': 'enclosure'},\n",
       "  {'type': 'video/m4v',\n",
       "   'href': 'https://vdmedia.elpais.com/elpaistop/multimedia/20197/2/dd2028dd6bbd58f1b6a09dca266bf850_video_1800.mp4',\n",
       "   'rel': 'enclosure'}],\n",
       " 'link': 'https://elpais.com/internacional/2019/07/02/actualidad/1562077916_129017.html#?ref=rss&format=simple&link=link',\n",
       " 'id': 'https://elpais.com/internacional/2019/07/02/actualidad/1562077916_129017.html#?ref=rss&format=simple&link=guid',\n",
       " 'guidislink': False,\n",
       " 'authors': [{'name': 'Bernardo de Miguel'}],\n",
       " 'author': 'Bernardo de Miguel',\n",
       " 'author_detail': {'name': 'Bernardo de Miguel'},\n",
       " 'summary': 'La ministra de Defensa alemana, Von der Leyen, es designada para presidir la Comisión Europea. La francesa Lagarde, el Banco Central Europeo y Borrell, responsable de Exteriores',\n",
       " 'summary_detail': {'type': 'text/html',\n",
       "  'language': None,\n",
       "  'base': 'http://ep00.epimg.net/rss/elpais/portada.xml',\n",
       "  'value': 'La ministra de Defensa alemana, Von der Leyen, es designada para presidir la Comisión Europea. La francesa Lagarde, el Banco Central Europeo y Borrell, responsable de Exteriores'},\n",
       " 'published': 'Tue, 2 Jul 2019 21:48:08 +0200',\n",
       " 'published_parsed': time.struct_time(tm_year=2019, tm_mon=7, tm_mday=2, tm_hour=19, tm_min=48, tm_sec=8, tm_wday=1, tm_yday=183, tm_isdst=0),\n",
       " 'tags': [{'term': 'Elecciones europeas 2019', 'scheme': None, 'label': None},\n",
       "  {'term': 'Angela Merkel', 'scheme': None, 'label': None},\n",
       "  {'term': 'Emmanuel Macron', 'scheme': None, 'label': None},\n",
       "  {'term': 'Pedro Sánchez', 'scheme': None, 'label': None},\n",
       "  {'term': 'Christine Lagarde', 'scheme': None, 'label': None},\n",
       "  {'term': 'Comisión Europea', 'scheme': None, 'label': None},\n",
       "  {'term': 'Presidencia Gobierno', 'scheme': None, 'label': None},\n",
       "  {'term': 'BCE', 'scheme': None, 'label': None},\n",
       "  {'term': 'Parlamento europeo', 'scheme': None, 'label': None},\n",
       "  {'term': 'Elecciones europeas', 'scheme': None, 'label': None},\n",
       "  {'term': 'Gobierno de España', 'scheme': None, 'label': None},\n",
       "  {'term': 'Consejo Europeo', 'scheme': None, 'label': None},\n",
       "  {'term': 'Elecciones', 'scheme': None, 'label': None},\n",
       "  {'term': 'Bancos', 'scheme': None, 'label': None},\n",
       "  {'term': 'Unión Europea', 'scheme': None, 'label': None},\n",
       "  {'term': 'Gobierno', 'scheme': None, 'label': None},\n",
       "  {'term': 'Organizaciones internacionales', 'scheme': None, 'label': None},\n",
       "  {'term': 'Europa', 'scheme': None, 'label': None},\n",
       "  {'term': 'Administración Estado', 'scheme': None, 'label': None},\n",
       "  {'term': 'Relaciones exteriores', 'scheme': None, 'label': None},\n",
       "  {'term': 'Política', 'scheme': None, 'label': None},\n",
       "  {'term': 'Administración pública', 'scheme': None, 'label': None}],\n",
       " 'content': [{'type': 'text/html',\n",
       "   'language': None,\n",
       "   'base': 'http://ep00.epimg.net/rss/elpais/portada.xml',\n",
       "   'value': '<p>La tercera jornada de la cumbre europea para nombrar la cúpula comunitaria ha dejado este martes un reparto de los principales cargos en juego entre Berlín, París y Madrid. Alemania y Francia se hacen con los principales puestos a repartir, la presidencia de la Comisión Europea y el Banco Central Europeo. España logra, por primera vez en 15 años, uno de los altos cargos vacantes, con Josep Borrell como futuro vicepresidente de la Comisión y Alto Representante de Política Exterior.</p><p><a href=\"https://elpais.com/internacional/2019/07/02/actualidad/1562077916_129017.html#?ref=rss&format=simple&link=seguir\">Seguir leyendo</a>.</p>'}],\n",
       " 'comments': 'http://eskup.elpais.com/C1562087802-10f76298d9ebe0d39da9d019de169f5f'}"
      ]
     },
     "execution_count": 16,
     "metadata": {},
     "output_type": "execute_result"
    }
   ],
   "source": [
    "feed.entries[0]"
   ]
  },
  {
   "cell_type": "code",
   "execution_count": 21,
   "metadata": {},
   "outputs": [
    {
     "data": {
      "text/plain": [
       "'https://www.elmundo.es/espana/2019/07/02/5d1b1096fdddff258a8b45f9.html'"
      ]
     },
     "execution_count": 21,
     "metadata": {},
     "output_type": "execute_result"
    }
   ],
   "source": [
    "feed = feedparser.parse(\"https://e00-elmundo.uecdn.es/elmundo/rss/espana.xml\")\n",
    "feed.entries[0].link"
   ]
  },
  {
   "cell_type": "code",
   "execution_count": 20,
   "metadata": {},
   "outputs": [
    {
     "data": {
      "text/plain": [
       "'https://elpais.com/internacional/2019/07/02/actualidad/1562077916_129017.html#?ref=rss&format=simple&link=link'"
      ]
     },
     "execution_count": 20,
     "metadata": {},
     "output_type": "execute_result"
    }
   ],
   "source": [
    "feed = feedparser.parse(\"http://ep00.epimg.net/rss/elpais/portada.xml\")\n",
    "feed.entries[0].link"
   ]
  },
  {
   "cell_type": "code",
   "execution_count": 36,
   "metadata": {},
   "outputs": [
    {
     "name": "stdout",
     "output_type": "stream",
     "text": [
      "21 https://elpais.com/internacional/2019/07/02/actualidad/1562077916_129017.html#?ref=rss&format=simple&link=link\n",
      "61 https://www.elmundo.es/espana/2019/07/02/5d1b1096fdddff258a8b45f9.html\n",
      "49 https://www.larazon.es/espana/denuncian-la-presencia-de-ratas-en-un-cuartel-de-la-guardia-civil-LE24023800\n",
      "10 https://www.eldiario.es/internacional/Merkel-Macron-UE-Borrell-diplomacia_0_916209161.html\n",
      "20 http://www.publico.es/internacional/carola-rackete-justicia-italiana-deja-libertad-capitana-sea-watch-deber-salvar-vidas.html\n",
      "20 https://www.abc.es/espana/canarias/abci-nueva-canarias-controlara-9000-millones-euros-y-psoe-presidencia-201907022221_noticia.html\n",
      "73 https://www.lavanguardia.com/internacional/20190702/463245531842/josep-borrell-jefe-diplomacia-ue-ursula-von-der-leyen-presidenta-comision-europea.html\n",
      "15 https://www.20minutos.es/noticia/3690545/0/union-europea-ursula-von-der-leyen-comision-europea/\n"
     ]
    }
   ],
   "source": [
    "\n",
    "\n",
    "feeds = {\n",
    "    'https://elpais.com/': 'http://ep00.epimg.net/rss/elpais/portada.xml',\n",
    "    'https://elmundo.es': 'https://e00-elmundo.uecdn.es/elmundo/rss/espana.xml',\n",
    "    'https://www.larazon.es/': 'https://www.larazon.es/rss/espana.xml',\n",
    "    'https://www.eldiario.es/': 'http://www.eldiario.es/rss',\n",
    "    'https://www.publico.es/': 'https://www.publico.es/rss/',\n",
    "    'https://www.abc.es/': 'https://www.abc.es/rss/feeds/abc_EspanaEspana.xml',\n",
    "    'https://www.lavanguardia.com/': 'https://www.lavanguardia.com/mvc/feed/rss/home',\n",
    "    'https://www.20minutos.es/': 'https://www.20minutos.es/rss/'\n",
    "}\n",
    "\n",
    "for feed_name in feeds:\n",
    "    # print(feed_name)\n",
    "    feed = feedparser.parse(feeds[feed_name])\n",
    "    print(len(feed.entries), feed.entries[0].link)"
   ]
  },
  {
   "cell_type": "code",
   "execution_count": 37,
   "metadata": {},
   "outputs": [
    {
     "name": "stdout",
     "output_type": "stream",
     "text": [
      "https://elpais.com/internacional/2019/07/02/actualidad/1562077916_129017.html#?ref=rss&format=simple&link=link\n",
      "https://elpais.com/internacional/2019/07/02/actualidad/1562082351_352462.html#?ref=rss&format=simple&link=link\n",
      "https://elpais.com/internacional/2019/07/02/actualidad/1562082074_364718.html#?ref=rss&format=simple&link=link\n",
      "https://elpais.com/internacional/2019/07/02/actualidad/1562089986_242931.html#?ref=rss&format=simple&link=link\n",
      "https://elpais.com/ccaa/2019/07/02/madrid/1562077107_306399.html#?ref=rss&format=simple&link=link\n",
      "https://elpais.com/politica/2019/07/02/actualidad/1562044318_820646.html#?ref=rss&format=simple&link=link\n",
      "https://elpais.com/internacional/2019/07/02/actualidad/1562091519_351309.html#?ref=rss&format=simple&link=link\n",
      "https://elpais.com/politica/2019/07/02/actualidad/1562048802_368351.html#?ref=rss&format=simple&link=link\n",
      "https://elpais.com/politica/2019/07/02/actualidad/1562074842_066575.html#?ref=rss&format=simple&link=link\n",
      "https://elpais.com/economia/2019/07/02/actualidad/1562059588_079185.html#?ref=rss&format=simple&link=link\n",
      "https://elpais.com/elpais/2019/07/02/videos/1562087595_674223.html#?ref=rss&format=simple&link=link\n",
      "https://elpais.com/sociedad/2019/07/02/actualidad/1562062099_203582.html#?ref=rss&format=simple&link=link\n",
      "https://elpais.com/internacional/2019/07/02/actualidad/1562094157_265245.html#?ref=rss&format=simple&link=link\n",
      "https://elpais.com/politica/2019/07/02/actualidad/1562089393_355125.html#?ref=rss&format=simple&link=link\n",
      "https://elpais.com/internacional/2019/07/02/actualidad/1562075541_072577.html#?ref=rss&format=simple&link=link\n",
      "https://elpais.com/politica/2019/07/02/actualidad/1562082007_026690.html#?ref=rss&format=simple&link=link\n",
      "https://elpais.com/elpais/2019/07/02/portada/1562042899_024210.html#?ref=rss&format=simple&link=link\n",
      "https://elpais.com/internacional/2019/07/02/actualidad/1562075330_209554.html#?ref=rss&format=simple&link=link\n",
      "https://elpais.com/ccaa/2019/07/02/madrid/1562069733_203790.html#?ref=rss&format=simple&link=link\n",
      "https://elpais.com/sociedad/2019/07/02/actualidad/1562068362_895213.html#?ref=rss&format=simple&link=link\n",
      "https://elpais.com/elpais/2019/06/26/icon/1561546856_080222.html#?ref=rss&format=simple&link=link\n"
     ]
    }
   ],
   "source": [
    "feed = feedparser.parse(feeds['https://elpais.com/'])\n",
    "for entry in feed.entries:\n",
    "    print(entry.link)"
   ]
  }
 ],
 "metadata": {
  "kernelspec": {
   "display_name": "Python 3",
   "language": "python",
   "name": "python3"
  },
  "language_info": {
   "codemirror_mode": {
    "name": "ipython",
    "version": 3
   },
   "file_extension": ".py",
   "mimetype": "text/x-python",
   "name": "python",
   "nbconvert_exporter": "python",
   "pygments_lexer": "ipython3",
   "version": "3.6.8"
  }
 },
 "nbformat": 4,
 "nbformat_minor": 2
}
